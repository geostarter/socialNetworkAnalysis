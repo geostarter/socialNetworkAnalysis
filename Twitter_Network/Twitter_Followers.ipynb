{
 "cells": [
  {
   "cell_type": "markdown",
   "metadata": {},
   "source": [
    "## Twitter Collection"
   ]
  },
  {
   "cell_type": "code",
   "execution_count": null,
   "metadata": {},
   "outputs": [],
   "source": [
    "# Insert your consumer key and secret inside the quotes below\n",
    "consumer_key = \"\"\n",
    "consumer_secret = \"\"\n",
    "\n",
    "# Insert your access key and secret inside the quotes below\n",
    "access_token_key = \"\"\n",
    "access_token_secret = \"\"\n",
    "\n",
    "print(\"Consumer and access keys and secrets have been successfully added\")\n"
   ]
  },
  {
   "cell_type": "code",
   "execution_count": null,
   "metadata": {
    "scrolled": false
   },
   "outputs": [],
   "source": [
    "# Example: Gather a list of followers using 'follwers/list'\n",
    "\n",
    "# This line allows us to access the TwitterAPI library\n",
    "# from TwitterAPI import TwitterAPI\n",
    "# import pprint\n",
    "\n",
    "# print(\"Starting TwitterAPI\")\n",
    "# api = TwitterAPI(consumer_key, consumer_secret, access_token_key, access_token_secret)\n",
    "\n",
    "# print(\"Setting up request for the search API\")\n",
    "# r = api.request('followers/list', {'screen_name': 'UMNews'})\n",
    "# print(r.get_iterator())\n",
    "# print(\"Begin capturing followers using REST APIs\")\n",
    "\n",
    "# for i in r.get_iterator():\n",
    "#     print(i)"
   ]
  },
  {
   "cell_type": "code",
   "execution_count": null,
   "metadata": {},
   "outputs": [],
   "source": [
    "TwitterPpl = ['saratunxhi',\n",
    "            'Amanbiede',\n",
    "            'Gauleritra',\n",
    "            'SebleEphrem',\n",
    "            'YohannaPaulos',\n",
    "            'stesfamariam',\n",
    "            'tekerebanelim',\n",
    "            'eliasamare',\n",
    "            'ZYafet',\n",
    "            'DahlaKib',\n",
    "            '1People1Heart',\n",
    "            'tsinaat',\n",
    "            'Africanshine',\n",
    "            'biniamb',\n",
    "            'EriDaggu',\n",
    "            'Salem_Shikorina',\n",
    "            'eritreacompass',]"
   ]
  },
  {
   "cell_type": "code",
   "execution_count": null,
   "metadata": {},
   "outputs": [],
   "source": [
    "from TwitterAPI import TwitterAPI, TwitterPager\n",
    "import pprint\n",
    "import csv\n",
    "from collections import Counter\n",
    "import time\n",
    "\n",
    "\n",
    "# Example: Gather a list of followers using 'follwers/list'\n",
    "def twitter_func(screen_name):\n",
    "    followerList = []\n",
    "    # This line allows us to access the TwitterAPI library\n",
    "\n",
    "    print(\"Starting TwitterAPI\")\n",
    "    api = TwitterAPI(consumer_key, consumer_secret, access_token_key, access_token_secret)\n",
    "\n",
    "    print(\"Setting up request for the search API\")\n",
    "    r = TwitterPager(api, 'followers/list', {'screen_name': screen_name, 'count':100})\n",
    "\n",
    "    print(\"Begin capturing followers using REST APIs\")\n",
    "    for follower in r.get_iterator():\n",
    "        print(screen_name)\n",
    "        time.sleep(2)\n",
    "        followerList.append(follower['screen_name'])\n",
    "    print(\"Done\", screen_name)\n",
    "    time.sleep(1100)\n",
    "    return followerList\n",
    "    "
   ]
  },
  {
   "cell_type": "code",
   "execution_count": null,
   "metadata": {
    "scrolled": false
   },
   "outputs": [],
   "source": [
    "row = ['A','B']\n",
    "peopleCount = []\n",
    "count = 0\n",
    "\n",
    "\n",
    "with open('TwitterTrans.csv', 'w') as file:\n",
    "    writer = csv.writer(file)\n",
    "    writer.writerow(row)\n",
    "    for i in TwitterPpl:\n",
    "        peopleCount.append(i)\n",
    "#         try:\n",
    "        print(i, \"twitter_func\")\n",
    "        people = twitter_func(i)\n",
    "        for j in people:\n",
    "            peopleCount.append(j)\n",
    "            count +=1\n",
    "            writer.writerow([i,j])\n",
    "#         except:\n",
    "#             print(\"Something broke\")\n",
    "    print(Counter(peopleCount))\n",
    "    print(\"Done\")\n",
    "    \n",
    "    \n",
    "    \n",
    "file.close()"
   ]
  },
  {
   "cell_type": "code",
   "execution_count": null,
   "metadata": {},
   "outputs": [],
   "source": []
  }
 ],
 "metadata": {
  "kernelspec": {
   "display_name": "Python 3",
   "language": "python",
   "name": "python3"
  },
  "language_info": {
   "codemirror_mode": {
    "name": "ipython",
    "version": 3
   },
   "file_extension": ".py",
   "mimetype": "text/x-python",
   "name": "python",
   "nbconvert_exporter": "python",
   "pygments_lexer": "ipython3",
   "version": "3.7.0"
  }
 },
 "nbformat": 4,
 "nbformat_minor": 2
}
